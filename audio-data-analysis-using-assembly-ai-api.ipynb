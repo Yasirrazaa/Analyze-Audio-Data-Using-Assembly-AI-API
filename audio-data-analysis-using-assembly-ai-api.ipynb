{
 "cells": [
  {
   "cell_type": "code",
   "execution_count": 1,
   "id": "b6c01034",
   "metadata": {
    "execution": {
     "iopub.execute_input": "2022-10-26T13:34:31.545970Z",
     "iopub.status.busy": "2022-10-26T13:34:31.545128Z",
     "iopub.status.idle": "2022-10-26T13:34:52.504120Z",
     "shell.execute_reply": "2022-10-26T13:34:52.502830Z"
    },
    "papermill": {
     "duration": 20.973443,
     "end_time": "2022-10-26T13:34:52.507101",
     "exception": false,
     "start_time": "2022-10-26T13:34:31.533658",
     "status": "completed"
    },
    "tags": []
   },
   "outputs": [
    {
     "data": {
      "application/javascript": [
       "(function(root) {\n",
       "  function now() {\n",
       "    return new Date();\n",
       "  }\n",
       "\n",
       "  var force = true;\n",
       "\n",
       "  if (typeof root._bokeh_onload_callbacks === \"undefined\" || force === true) {\n",
       "    root._bokeh_onload_callbacks = [];\n",
       "    root._bokeh_is_loading = undefined;\n",
       "  }\n",
       "\n",
       "  if (typeof (root._bokeh_timeout) === \"undefined\" || force === true) {\n",
       "    root._bokeh_timeout = Date.now() + 5000;\n",
       "    root._bokeh_failed_load = false;\n",
       "  }\n",
       "\n",
       "  function run_callbacks() {\n",
       "    try {\n",
       "      root._bokeh_onload_callbacks.forEach(function(callback) {\n",
       "        if (callback != null)\n",
       "          callback();\n",
       "      });\n",
       "    } finally {\n",
       "      delete root._bokeh_onload_callbacks\n",
       "    }\n",
       "    console.debug(\"Bokeh: all callbacks have finished\");\n",
       "  }\n",
       "\n",
       "  function load_libs(css_urls, js_urls, js_modules, callback) {\n",
       "    if (css_urls == null) css_urls = [];\n",
       "    if (js_urls == null) js_urls = [];\n",
       "    if (js_modules == null) js_modules = [];\n",
       "\n",
       "    root._bokeh_onload_callbacks.push(callback);\n",
       "    if (root._bokeh_is_loading > 0) {\n",
       "      console.debug(\"Bokeh: BokehJS is being loaded, scheduling callback at\", now());\n",
       "      return null;\n",
       "    }\n",
       "    if (js_urls.length === 0 && js_modules.length === 0) {\n",
       "      run_callbacks();\n",
       "      return null;\n",
       "    }\n",
       "    console.debug(\"Bokeh: BokehJS not loaded, scheduling load and callback at\", now());\n",
       "\n",
       "    function on_load() {\n",
       "      root._bokeh_is_loading--;\n",
       "      if (root._bokeh_is_loading === 0) {\n",
       "        console.debug(\"Bokeh: all BokehJS libraries/stylesheets loaded\");\n",
       "        run_callbacks()\n",
       "      }\n",
       "    }\n",
       "\n",
       "    function on_error() {\n",
       "      console.error(\"failed to load \" + url);\n",
       "    }\n",
       "\n",
       "    for (var i = 0; i < css_urls.length; i++) {\n",
       "      var url = css_urls[i];\n",
       "      const element = document.createElement(\"link\");\n",
       "      element.onload = on_load;\n",
       "      element.onerror = on_error;\n",
       "      element.rel = \"stylesheet\";\n",
       "      element.type = \"text/css\";\n",
       "      element.href = url;\n",
       "      console.debug(\"Bokeh: injecting link tag for BokehJS stylesheet: \", url);\n",
       "      document.body.appendChild(element);\n",
       "    }\n",
       "\n",
       "    var skip = [];\n",
       "    if (window.requirejs) {\n",
       "      window.requirejs.config({'packages': {}, 'paths': {'gridstack': 'https://cdn.jsdelivr.net/npm/gridstack@4.2.5/dist/gridstack-h5', 'notyf': 'https://cdn.jsdelivr.net/npm/notyf@3/notyf.min'}, 'shim': {'gridstack': {'exports': 'GridStack'}}});\n",
       "      require([\"gridstack\"], function(GridStack) {\n",
       "\twindow.GridStack = GridStack\n",
       "\ton_load()\n",
       "      })\n",
       "      require([\"notyf\"], function() {\n",
       "\ton_load()\n",
       "      })\n",
       "      root._bokeh_is_loading = css_urls.length + 2;\n",
       "    } else {\n",
       "      root._bokeh_is_loading = css_urls.length + js_urls.length + js_modules.length;\n",
       "    }    if (((window['GridStack'] !== undefined) && (!(window['GridStack'] instanceof HTMLElement))) || window.requirejs) {\n",
       "      var urls = ['https://cdn.jsdelivr.net/npm/gridstack@4.2.5/dist/gridstack-h5.js'];\n",
       "      for (var i = 0; i < urls.length; i++) {\n",
       "        skip.push(urls[i])\n",
       "      }\n",
       "    }    if (((window['Notyf'] !== undefined) && (!(window['Notyf'] instanceof HTMLElement))) || window.requirejs) {\n",
       "      var urls = ['https://cdn.jsdelivr.net/npm/notyf@3/notyf.min.js'];\n",
       "      for (var i = 0; i < urls.length; i++) {\n",
       "        skip.push(urls[i])\n",
       "      }\n",
       "    }    for (var i = 0; i < js_urls.length; i++) {\n",
       "      var url = js_urls[i];\n",
       "      if (skip.indexOf(url) >= 0) {\n",
       "\tif (!window.requirejs) {\n",
       "\t  on_load();\n",
       "\t}\n",
       "\tcontinue;\n",
       "      }\n",
       "      var element = document.createElement('script');\n",
       "      element.onload = on_load;\n",
       "      element.onerror = on_error;\n",
       "      element.async = false;\n",
       "      element.src = url;\n",
       "      console.debug(\"Bokeh: injecting script tag for BokehJS library: \", url);\n",
       "      document.head.appendChild(element);\n",
       "    }\n",
       "    for (var i = 0; i < js_modules.length; i++) {\n",
       "      var url = js_modules[i];\n",
       "      if (skip.indexOf(url) >= 0) {\n",
       "\tif (!window.requirejs) {\n",
       "\t  on_load();\n",
       "\t}\n",
       "\tcontinue;\n",
       "      }\n",
       "      var element = document.createElement('script');\n",
       "      element.onload = on_load;\n",
       "      element.onerror = on_error;\n",
       "      element.async = false;\n",
       "      element.src = url;\n",
       "      element.type = \"module\";\n",
       "      console.debug(\"Bokeh: injecting script tag for BokehJS library: \", url);\n",
       "      document.head.appendChild(element);\n",
       "    }\n",
       "    if (!js_urls.length && !js_modules.length) {\n",
       "      on_load()\n",
       "    }\n",
       "  };\n",
       "\n",
       "  function inject_raw_css(css) {\n",
       "    const element = document.createElement(\"style\");\n",
       "    element.appendChild(document.createTextNode(css));\n",
       "    document.body.appendChild(element);\n",
       "  }\n",
       "\n",
       "  var js_urls = [\"https://cdn.bokeh.org/bokeh/release/bokeh-2.4.3.min.js\", \"https://cdn.bokeh.org/bokeh/release/bokeh-gl-2.4.3.min.js\", \"https://cdn.bokeh.org/bokeh/release/bokeh-widgets-2.4.3.min.js\", \"https://cdn.bokeh.org/bokeh/release/bokeh-tables-2.4.3.min.js\", \"https://cdn.bokeh.org/bokeh/release/bokeh-mathjax-2.4.3.min.js\", \"https://cdn.jsdelivr.net/npm/notyf@3/notyf.min.js\", \"https://unpkg.com/@holoviz/panel@0.13.1/dist/panel.min.js\"];\n",
       "  var js_modules = [];\n",
       "  var css_urls = [\"https://cdn.jsdelivr.net/npm/notyf@3/notyf.min.css\", \"https://cdnjs.cloudflare.com/ajax/libs/font-awesome/5.15.1/css/all.min.css\", \"https://unpkg.com/@holoviz/panel@0.13.1/dist/css/loading.css\", \"https://unpkg.com/@holoviz/panel@0.13.1/dist/css/debugger.css\", \"https://unpkg.com/@holoviz/panel@0.13.1/dist/css/markdown.css\", \"https://unpkg.com/@holoviz/panel@0.13.1/dist/css/alerts.css\", \"https://unpkg.com/@holoviz/panel@0.13.1/dist/css/json.css\", \"https://unpkg.com/@holoviz/panel@0.13.1/dist/css/widgets.css\", \"https://unpkg.com/@holoviz/panel@0.13.1/dist/css/card.css\", \"https://unpkg.com/@holoviz/panel@0.13.1/dist/css/dataframe.css\"];\n",
       "  var inline_js = [    function(Bokeh) {\n",
       "      inject_raw_css(\"\\n    .bk.pn-loading.arcs:before {\\n      background-image: url(\\\"data:image/svg+xml;base64,PHN2ZyB4bWxucz0iaHR0cDovL3d3dy53My5vcmcvMjAwMC9zdmciIHhtbG5zOnhsaW5rPSJodHRwOi8vd3d3LnczLm9yZy8xOTk5L3hsaW5rIiBzdHlsZT0ibWFyZ2luOiBhdXRvOyBiYWNrZ3JvdW5kOiBub25lOyBkaXNwbGF5OiBibG9jazsgc2hhcGUtcmVuZGVyaW5nOiBhdXRvOyIgdmlld0JveD0iMCAwIDEwMCAxMDAiIHByZXNlcnZlQXNwZWN0UmF0aW89InhNaWRZTWlkIj4gIDxjaXJjbGUgY3g9IjUwIiBjeT0iNTAiIHI9IjMyIiBzdHJva2Utd2lkdGg9IjgiIHN0cm9rZT0iI2MzYzNjMyIgc3Ryb2tlLWRhc2hhcnJheT0iNTAuMjY1NDgyNDU3NDM2NjkgNTAuMjY1NDgyNDU3NDM2NjkiIGZpbGw9Im5vbmUiIHN0cm9rZS1saW5lY2FwPSJyb3VuZCI+ICAgIDxhbmltYXRlVHJhbnNmb3JtIGF0dHJpYnV0ZU5hbWU9InRyYW5zZm9ybSIgdHlwZT0icm90YXRlIiByZXBlYXRDb3VudD0iaW5kZWZpbml0ZSIgZHVyPSIxcyIga2V5VGltZXM9IjA7MSIgdmFsdWVzPSIwIDUwIDUwOzM2MCA1MCA1MCI+PC9hbmltYXRlVHJhbnNmb3JtPiAgPC9jaXJjbGU+PC9zdmc+\\\");\\n      background-size: auto calc(min(50%, 400px));\\n    }\\n    \");\n",
       "    },    function(Bokeh) {\n",
       "      Bokeh.set_log_level(\"info\");\n",
       "    },\n",
       "function(Bokeh) {} // ensure no trailing comma for IE\n",
       "  ];\n",
       "\n",
       "  function run_inline_js() {\n",
       "    if ((root.Bokeh !== undefined) || (force === true)) {\n",
       "      for (var i = 0; i < inline_js.length; i++) {\n",
       "        inline_js[i].call(root, root.Bokeh);\n",
       "      }} else if (Date.now() < root._bokeh_timeout) {\n",
       "      setTimeout(run_inline_js, 100);\n",
       "    } else if (!root._bokeh_failed_load) {\n",
       "      console.log(\"Bokeh: BokehJS failed to load within specified timeout.\");\n",
       "      root._bokeh_failed_load = true;\n",
       "    }\n",
       "  }\n",
       "\n",
       "  if (root._bokeh_is_loading === 0) {\n",
       "    console.debug(\"Bokeh: BokehJS loaded, going straight to plotting\");\n",
       "    run_inline_js();\n",
       "  } else {\n",
       "    load_libs(css_urls, js_urls, js_modules, function() {\n",
       "      console.debug(\"Bokeh: BokehJS plotting callback run at\", now());\n",
       "      run_inline_js();\n",
       "    });\n",
       "  }\n",
       "}(window));"
      ],
      "application/vnd.holoviews_load.v0+json": "(function(root) {\n  function now() {\n    return new Date();\n  }\n\n  var force = true;\n\n  if (typeof root._bokeh_onload_callbacks === \"undefined\" || force === true) {\n    root._bokeh_onload_callbacks = [];\n    root._bokeh_is_loading = undefined;\n  }\n\n  if (typeof (root._bokeh_timeout) === \"undefined\" || force === true) {\n    root._bokeh_timeout = Date.now() + 5000;\n    root._bokeh_failed_load = false;\n  }\n\n  function run_callbacks() {\n    try {\n      root._bokeh_onload_callbacks.forEach(function(callback) {\n        if (callback != null)\n          callback();\n      });\n    } finally {\n      delete root._bokeh_onload_callbacks\n    }\n    console.debug(\"Bokeh: all callbacks have finished\");\n  }\n\n  function load_libs(css_urls, js_urls, js_modules, callback) {\n    if (css_urls == null) css_urls = [];\n    if (js_urls == null) js_urls = [];\n    if (js_modules == null) js_modules = [];\n\n    root._bokeh_onload_callbacks.push(callback);\n    if (root._bokeh_is_loading > 0) {\n      console.debug(\"Bokeh: BokehJS is being loaded, scheduling callback at\", now());\n      return null;\n    }\n    if (js_urls.length === 0 && js_modules.length === 0) {\n      run_callbacks();\n      return null;\n    }\n    console.debug(\"Bokeh: BokehJS not loaded, scheduling load and callback at\", now());\n\n    function on_load() {\n      root._bokeh_is_loading--;\n      if (root._bokeh_is_loading === 0) {\n        console.debug(\"Bokeh: all BokehJS libraries/stylesheets loaded\");\n        run_callbacks()\n      }\n    }\n\n    function on_error() {\n      console.error(\"failed to load \" + url);\n    }\n\n    for (var i = 0; i < css_urls.length; i++) {\n      var url = css_urls[i];\n      const element = document.createElement(\"link\");\n      element.onload = on_load;\n      element.onerror = on_error;\n      element.rel = \"stylesheet\";\n      element.type = \"text/css\";\n      element.href = url;\n      console.debug(\"Bokeh: injecting link tag for BokehJS stylesheet: \", url);\n      document.body.appendChild(element);\n    }\n\n    var skip = [];\n    if (window.requirejs) {\n      window.requirejs.config({'packages': {}, 'paths': {'gridstack': 'https://cdn.jsdelivr.net/npm/gridstack@4.2.5/dist/gridstack-h5', 'notyf': 'https://cdn.jsdelivr.net/npm/notyf@3/notyf.min'}, 'shim': {'gridstack': {'exports': 'GridStack'}}});\n      require([\"gridstack\"], function(GridStack) {\n\twindow.GridStack = GridStack\n\ton_load()\n      })\n      require([\"notyf\"], function() {\n\ton_load()\n      })\n      root._bokeh_is_loading = css_urls.length + 2;\n    } else {\n      root._bokeh_is_loading = css_urls.length + js_urls.length + js_modules.length;\n    }    if (((window['GridStack'] !== undefined) && (!(window['GridStack'] instanceof HTMLElement))) || window.requirejs) {\n      var urls = ['https://cdn.jsdelivr.net/npm/gridstack@4.2.5/dist/gridstack-h5.js'];\n      for (var i = 0; i < urls.length; i++) {\n        skip.push(urls[i])\n      }\n    }    if (((window['Notyf'] !== undefined) && (!(window['Notyf'] instanceof HTMLElement))) || window.requirejs) {\n      var urls = ['https://cdn.jsdelivr.net/npm/notyf@3/notyf.min.js'];\n      for (var i = 0; i < urls.length; i++) {\n        skip.push(urls[i])\n      }\n    }    for (var i = 0; i < js_urls.length; i++) {\n      var url = js_urls[i];\n      if (skip.indexOf(url) >= 0) {\n\tif (!window.requirejs) {\n\t  on_load();\n\t}\n\tcontinue;\n      }\n      var element = document.createElement('script');\n      element.onload = on_load;\n      element.onerror = on_error;\n      element.async = false;\n      element.src = url;\n      console.debug(\"Bokeh: injecting script tag for BokehJS library: \", url);\n      document.head.appendChild(element);\n    }\n    for (var i = 0; i < js_modules.length; i++) {\n      var url = js_modules[i];\n      if (skip.indexOf(url) >= 0) {\n\tif (!window.requirejs) {\n\t  on_load();\n\t}\n\tcontinue;\n      }\n      var element = document.createElement('script');\n      element.onload = on_load;\n      element.onerror = on_error;\n      element.async = false;\n      element.src = url;\n      element.type = \"module\";\n      console.debug(\"Bokeh: injecting script tag for BokehJS library: \", url);\n      document.head.appendChild(element);\n    }\n    if (!js_urls.length && !js_modules.length) {\n      on_load()\n    }\n  };\n\n  function inject_raw_css(css) {\n    const element = document.createElement(\"style\");\n    element.appendChild(document.createTextNode(css));\n    document.body.appendChild(element);\n  }\n\n  var js_urls = [\"https://cdn.bokeh.org/bokeh/release/bokeh-2.4.3.min.js\", \"https://cdn.bokeh.org/bokeh/release/bokeh-gl-2.4.3.min.js\", \"https://cdn.bokeh.org/bokeh/release/bokeh-widgets-2.4.3.min.js\", \"https://cdn.bokeh.org/bokeh/release/bokeh-tables-2.4.3.min.js\", \"https://cdn.bokeh.org/bokeh/release/bokeh-mathjax-2.4.3.min.js\", \"https://cdn.jsdelivr.net/npm/notyf@3/notyf.min.js\", \"https://unpkg.com/@holoviz/panel@0.13.1/dist/panel.min.js\"];\n  var js_modules = [];\n  var css_urls = [\"https://cdn.jsdelivr.net/npm/notyf@3/notyf.min.css\", \"https://cdnjs.cloudflare.com/ajax/libs/font-awesome/5.15.1/css/all.min.css\", \"https://unpkg.com/@holoviz/panel@0.13.1/dist/css/loading.css\", \"https://unpkg.com/@holoviz/panel@0.13.1/dist/css/debugger.css\", \"https://unpkg.com/@holoviz/panel@0.13.1/dist/css/markdown.css\", \"https://unpkg.com/@holoviz/panel@0.13.1/dist/css/alerts.css\", \"https://unpkg.com/@holoviz/panel@0.13.1/dist/css/json.css\", \"https://unpkg.com/@holoviz/panel@0.13.1/dist/css/widgets.css\", \"https://unpkg.com/@holoviz/panel@0.13.1/dist/css/card.css\", \"https://unpkg.com/@holoviz/panel@0.13.1/dist/css/dataframe.css\"];\n  var inline_js = [    function(Bokeh) {\n      inject_raw_css(\"\\n    .bk.pn-loading.arcs:before {\\n      background-image: url(\\\"data:image/svg+xml;base64,PHN2ZyB4bWxucz0iaHR0cDovL3d3dy53My5vcmcvMjAwMC9zdmciIHhtbG5zOnhsaW5rPSJodHRwOi8vd3d3LnczLm9yZy8xOTk5L3hsaW5rIiBzdHlsZT0ibWFyZ2luOiBhdXRvOyBiYWNrZ3JvdW5kOiBub25lOyBkaXNwbGF5OiBibG9jazsgc2hhcGUtcmVuZGVyaW5nOiBhdXRvOyIgdmlld0JveD0iMCAwIDEwMCAxMDAiIHByZXNlcnZlQXNwZWN0UmF0aW89InhNaWRZTWlkIj4gIDxjaXJjbGUgY3g9IjUwIiBjeT0iNTAiIHI9IjMyIiBzdHJva2Utd2lkdGg9IjgiIHN0cm9rZT0iI2MzYzNjMyIgc3Ryb2tlLWRhc2hhcnJheT0iNTAuMjY1NDgyNDU3NDM2NjkgNTAuMjY1NDgyNDU3NDM2NjkiIGZpbGw9Im5vbmUiIHN0cm9rZS1saW5lY2FwPSJyb3VuZCI+ICAgIDxhbmltYXRlVHJhbnNmb3JtIGF0dHJpYnV0ZU5hbWU9InRyYW5zZm9ybSIgdHlwZT0icm90YXRlIiByZXBlYXRDb3VudD0iaW5kZWZpbml0ZSIgZHVyPSIxcyIga2V5VGltZXM9IjA7MSIgdmFsdWVzPSIwIDUwIDUwOzM2MCA1MCA1MCI+PC9hbmltYXRlVHJhbnNmb3JtPiAgPC9jaXJjbGU+PC9zdmc+\\\");\\n      background-size: auto calc(min(50%, 400px));\\n    }\\n    \");\n    },    function(Bokeh) {\n      Bokeh.set_log_level(\"info\");\n    },\nfunction(Bokeh) {} // ensure no trailing comma for IE\n  ];\n\n  function run_inline_js() {\n    if ((root.Bokeh !== undefined) || (force === true)) {\n      for (var i = 0; i < inline_js.length; i++) {\n        inline_js[i].call(root, root.Bokeh);\n      }} else if (Date.now() < root._bokeh_timeout) {\n      setTimeout(run_inline_js, 100);\n    } else if (!root._bokeh_failed_load) {\n      console.log(\"Bokeh: BokehJS failed to load within specified timeout.\");\n      root._bokeh_failed_load = true;\n    }\n  }\n\n  if (root._bokeh_is_loading === 0) {\n    console.debug(\"Bokeh: BokehJS loaded, going straight to plotting\");\n    run_inline_js();\n  } else {\n    load_libs(css_urls, js_urls, js_modules, function() {\n      console.debug(\"Bokeh: BokehJS plotting callback run at\", now());\n      run_inline_js();\n    });\n  }\n}(window));"
     },
     "metadata": {},
     "output_type": "display_data"
    },
    {
     "data": {
      "application/javascript": [
       "\n",
       "if ((window.PyViz === undefined) || (window.PyViz instanceof HTMLElement)) {\n",
       "  window.PyViz = {comms: {}, comm_status:{}, kernels:{}, receivers: {}, plot_index: []}\n",
       "}\n",
       "\n",
       "\n",
       "    function JupyterCommManager() {\n",
       "    }\n",
       "\n",
       "    JupyterCommManager.prototype.register_target = function(plot_id, comm_id, msg_handler) {\n",
       "      if (window.comm_manager || ((window.Jupyter !== undefined) && (Jupyter.notebook.kernel != null))) {\n",
       "        var comm_manager = window.comm_manager || Jupyter.notebook.kernel.comm_manager;\n",
       "        comm_manager.register_target(comm_id, function(comm) {\n",
       "          comm.on_msg(msg_handler);\n",
       "        });\n",
       "      } else if ((plot_id in window.PyViz.kernels) && (window.PyViz.kernels[plot_id])) {\n",
       "        window.PyViz.kernels[plot_id].registerCommTarget(comm_id, function(comm) {\n",
       "          comm.onMsg = msg_handler;\n",
       "        });\n",
       "      } else if (typeof google != 'undefined' && google.colab.kernel != null) {\n",
       "        google.colab.kernel.comms.registerTarget(comm_id, (comm) => {\n",
       "          var messages = comm.messages[Symbol.asyncIterator]();\n",
       "          function processIteratorResult(result) {\n",
       "            var message = result.value;\n",
       "            console.log(message)\n",
       "            var content = {data: message.data, comm_id};\n",
       "            var buffers = []\n",
       "            for (var buffer of message.buffers || []) {\n",
       "              buffers.push(new DataView(buffer))\n",
       "            }\n",
       "            var metadata = message.metadata || {};\n",
       "            var msg = {content, buffers, metadata}\n",
       "            msg_handler(msg);\n",
       "            return messages.next().then(processIteratorResult);\n",
       "          }\n",
       "          return messages.next().then(processIteratorResult);\n",
       "        })\n",
       "      }\n",
       "    }\n",
       "\n",
       "    JupyterCommManager.prototype.get_client_comm = function(plot_id, comm_id, msg_handler) {\n",
       "      if (comm_id in window.PyViz.comms) {\n",
       "        return window.PyViz.comms[comm_id];\n",
       "      } else if (window.comm_manager || ((window.Jupyter !== undefined) && (Jupyter.notebook.kernel != null))) {\n",
       "        var comm_manager = window.comm_manager || Jupyter.notebook.kernel.comm_manager;\n",
       "        var comm = comm_manager.new_comm(comm_id, {}, {}, {}, comm_id);\n",
       "        if (msg_handler) {\n",
       "          comm.on_msg(msg_handler);\n",
       "        }\n",
       "      } else if ((plot_id in window.PyViz.kernels) && (window.PyViz.kernels[plot_id])) {\n",
       "        var comm = window.PyViz.kernels[plot_id].connectToComm(comm_id);\n",
       "        comm.open();\n",
       "        if (msg_handler) {\n",
       "          comm.onMsg = msg_handler;\n",
       "        }\n",
       "      } else if (typeof google != 'undefined' && google.colab.kernel != null) {\n",
       "        var comm_promise = google.colab.kernel.comms.open(comm_id)\n",
       "        comm_promise.then((comm) => {\n",
       "          window.PyViz.comms[comm_id] = comm;\n",
       "          if (msg_handler) {\n",
       "            var messages = comm.messages[Symbol.asyncIterator]();\n",
       "            function processIteratorResult(result) {\n",
       "              var message = result.value;\n",
       "              var content = {data: message.data};\n",
       "              var metadata = message.metadata || {comm_id};\n",
       "              var msg = {content, metadata}\n",
       "              msg_handler(msg);\n",
       "              return messages.next().then(processIteratorResult);\n",
       "            }\n",
       "            return messages.next().then(processIteratorResult);\n",
       "          }\n",
       "        }) \n",
       "        var sendClosure = (data, metadata, buffers, disposeOnDone) => {\n",
       "          return comm_promise.then((comm) => {\n",
       "            comm.send(data, metadata, buffers, disposeOnDone);\n",
       "          });\n",
       "        };\n",
       "        var comm = {\n",
       "          send: sendClosure\n",
       "        };\n",
       "      }\n",
       "      window.PyViz.comms[comm_id] = comm;\n",
       "      return comm;\n",
       "    }\n",
       "    window.PyViz.comm_manager = new JupyterCommManager();\n",
       "    \n",
       "\n",
       "\n",
       "var JS_MIME_TYPE = 'application/javascript';\n",
       "var HTML_MIME_TYPE = 'text/html';\n",
       "var EXEC_MIME_TYPE = 'application/vnd.holoviews_exec.v0+json';\n",
       "var CLASS_NAME = 'output';\n",
       "\n",
       "/**\n",
       " * Render data to the DOM node\n",
       " */\n",
       "function render(props, node) {\n",
       "  var div = document.createElement(\"div\");\n",
       "  var script = document.createElement(\"script\");\n",
       "  node.appendChild(div);\n",
       "  node.appendChild(script);\n",
       "}\n",
       "\n",
       "/**\n",
       " * Handle when a new output is added\n",
       " */\n",
       "function handle_add_output(event, handle) {\n",
       "  var output_area = handle.output_area;\n",
       "  var output = handle.output;\n",
       "  if ((output.data == undefined) || (!output.data.hasOwnProperty(EXEC_MIME_TYPE))) {\n",
       "    return\n",
       "  }\n",
       "  var id = output.metadata[EXEC_MIME_TYPE][\"id\"];\n",
       "  var toinsert = output_area.element.find(\".\" + CLASS_NAME.split(' ')[0]);\n",
       "  if (id !== undefined) {\n",
       "    var nchildren = toinsert.length;\n",
       "    var html_node = toinsert[nchildren-1].children[0];\n",
       "    html_node.innerHTML = output.data[HTML_MIME_TYPE];\n",
       "    var scripts = [];\n",
       "    var nodelist = html_node.querySelectorAll(\"script\");\n",
       "    for (var i in nodelist) {\n",
       "      if (nodelist.hasOwnProperty(i)) {\n",
       "        scripts.push(nodelist[i])\n",
       "      }\n",
       "    }\n",
       "\n",
       "    scripts.forEach( function (oldScript) {\n",
       "      var newScript = document.createElement(\"script\");\n",
       "      var attrs = [];\n",
       "      var nodemap = oldScript.attributes;\n",
       "      for (var j in nodemap) {\n",
       "        if (nodemap.hasOwnProperty(j)) {\n",
       "          attrs.push(nodemap[j])\n",
       "        }\n",
       "      }\n",
       "      attrs.forEach(function(attr) { newScript.setAttribute(attr.name, attr.value) });\n",
       "      newScript.appendChild(document.createTextNode(oldScript.innerHTML));\n",
       "      oldScript.parentNode.replaceChild(newScript, oldScript);\n",
       "    });\n",
       "    if (JS_MIME_TYPE in output.data) {\n",
       "      toinsert[nchildren-1].children[1].textContent = output.data[JS_MIME_TYPE];\n",
       "    }\n",
       "    output_area._hv_plot_id = id;\n",
       "    if ((window.Bokeh !== undefined) && (id in Bokeh.index)) {\n",
       "      window.PyViz.plot_index[id] = Bokeh.index[id];\n",
       "    } else {\n",
       "      window.PyViz.plot_index[id] = null;\n",
       "    }\n",
       "  } else if (output.metadata[EXEC_MIME_TYPE][\"server_id\"] !== undefined) {\n",
       "    var bk_div = document.createElement(\"div\");\n",
       "    bk_div.innerHTML = output.data[HTML_MIME_TYPE];\n",
       "    var script_attrs = bk_div.children[0].attributes;\n",
       "    for (var i = 0; i < script_attrs.length; i++) {\n",
       "      toinsert[toinsert.length - 1].childNodes[1].setAttribute(script_attrs[i].name, script_attrs[i].value);\n",
       "    }\n",
       "    // store reference to server id on output_area\n",
       "    output_area._bokeh_server_id = output.metadata[EXEC_MIME_TYPE][\"server_id\"];\n",
       "  }\n",
       "}\n",
       "\n",
       "/**\n",
       " * Handle when an output is cleared or removed\n",
       " */\n",
       "function handle_clear_output(event, handle) {\n",
       "  var id = handle.cell.output_area._hv_plot_id;\n",
       "  var server_id = handle.cell.output_area._bokeh_server_id;\n",
       "  if (((id === undefined) || !(id in PyViz.plot_index)) && (server_id !== undefined)) { return; }\n",
       "  var comm = window.PyViz.comm_manager.get_client_comm(\"hv-extension-comm\", \"hv-extension-comm\", function () {});\n",
       "  if (server_id !== null) {\n",
       "    comm.send({event_type: 'server_delete', 'id': server_id});\n",
       "    return;\n",
       "  } else if (comm !== null) {\n",
       "    comm.send({event_type: 'delete', 'id': id});\n",
       "  }\n",
       "  delete PyViz.plot_index[id];\n",
       "  if ((window.Bokeh !== undefined) & (id in window.Bokeh.index)) {\n",
       "    var doc = window.Bokeh.index[id].model.document\n",
       "    doc.clear();\n",
       "    const i = window.Bokeh.documents.indexOf(doc);\n",
       "    if (i > -1) {\n",
       "      window.Bokeh.documents.splice(i, 1);\n",
       "    }\n",
       "  }\n",
       "}\n",
       "\n",
       "/**\n",
       " * Handle kernel restart event\n",
       " */\n",
       "function handle_kernel_cleanup(event, handle) {\n",
       "  delete PyViz.comms[\"hv-extension-comm\"];\n",
       "  window.PyViz.plot_index = {}\n",
       "}\n",
       "\n",
       "/**\n",
       " * Handle update_display_data messages\n",
       " */\n",
       "function handle_update_output(event, handle) {\n",
       "  handle_clear_output(event, {cell: {output_area: handle.output_area}})\n",
       "  handle_add_output(event, handle)\n",
       "}\n",
       "\n",
       "function register_renderer(events, OutputArea) {\n",
       "  function append_mime(data, metadata, element) {\n",
       "    // create a DOM node to render to\n",
       "    var toinsert = this.create_output_subarea(\n",
       "    metadata,\n",
       "    CLASS_NAME,\n",
       "    EXEC_MIME_TYPE\n",
       "    );\n",
       "    this.keyboard_manager.register_events(toinsert);\n",
       "    // Render to node\n",
       "    var props = {data: data, metadata: metadata[EXEC_MIME_TYPE]};\n",
       "    render(props, toinsert[0]);\n",
       "    element.append(toinsert);\n",
       "    return toinsert\n",
       "  }\n",
       "\n",
       "  events.on('output_added.OutputArea', handle_add_output);\n",
       "  events.on('output_updated.OutputArea', handle_update_output);\n",
       "  events.on('clear_output.CodeCell', handle_clear_output);\n",
       "  events.on('delete.Cell', handle_clear_output);\n",
       "  events.on('kernel_ready.Kernel', handle_kernel_cleanup);\n",
       "\n",
       "  OutputArea.prototype.register_mime_type(EXEC_MIME_TYPE, append_mime, {\n",
       "    safe: true,\n",
       "    index: 0\n",
       "  });\n",
       "}\n",
       "\n",
       "if (window.Jupyter !== undefined) {\n",
       "  try {\n",
       "    var events = require('base/js/events');\n",
       "    var OutputArea = require('notebook/js/outputarea').OutputArea;\n",
       "    if (OutputArea.prototype.mime_types().indexOf(EXEC_MIME_TYPE) == -1) {\n",
       "      register_renderer(events, OutputArea);\n",
       "    }\n",
       "  } catch(err) {\n",
       "  }\n",
       "}\n"
      ],
      "application/vnd.holoviews_load.v0+json": "\nif ((window.PyViz === undefined) || (window.PyViz instanceof HTMLElement)) {\n  window.PyViz = {comms: {}, comm_status:{}, kernels:{}, receivers: {}, plot_index: []}\n}\n\n\n    function JupyterCommManager() {\n    }\n\n    JupyterCommManager.prototype.register_target = function(plot_id, comm_id, msg_handler) {\n      if (window.comm_manager || ((window.Jupyter !== undefined) && (Jupyter.notebook.kernel != null))) {\n        var comm_manager = window.comm_manager || Jupyter.notebook.kernel.comm_manager;\n        comm_manager.register_target(comm_id, function(comm) {\n          comm.on_msg(msg_handler);\n        });\n      } else if ((plot_id in window.PyViz.kernels) && (window.PyViz.kernels[plot_id])) {\n        window.PyViz.kernels[plot_id].registerCommTarget(comm_id, function(comm) {\n          comm.onMsg = msg_handler;\n        });\n      } else if (typeof google != 'undefined' && google.colab.kernel != null) {\n        google.colab.kernel.comms.registerTarget(comm_id, (comm) => {\n          var messages = comm.messages[Symbol.asyncIterator]();\n          function processIteratorResult(result) {\n            var message = result.value;\n            console.log(message)\n            var content = {data: message.data, comm_id};\n            var buffers = []\n            for (var buffer of message.buffers || []) {\n              buffers.push(new DataView(buffer))\n            }\n            var metadata = message.metadata || {};\n            var msg = {content, buffers, metadata}\n            msg_handler(msg);\n            return messages.next().then(processIteratorResult);\n          }\n          return messages.next().then(processIteratorResult);\n        })\n      }\n    }\n\n    JupyterCommManager.prototype.get_client_comm = function(plot_id, comm_id, msg_handler) {\n      if (comm_id in window.PyViz.comms) {\n        return window.PyViz.comms[comm_id];\n      } else if (window.comm_manager || ((window.Jupyter !== undefined) && (Jupyter.notebook.kernel != null))) {\n        var comm_manager = window.comm_manager || Jupyter.notebook.kernel.comm_manager;\n        var comm = comm_manager.new_comm(comm_id, {}, {}, {}, comm_id);\n        if (msg_handler) {\n          comm.on_msg(msg_handler);\n        }\n      } else if ((plot_id in window.PyViz.kernels) && (window.PyViz.kernels[plot_id])) {\n        var comm = window.PyViz.kernels[plot_id].connectToComm(comm_id);\n        comm.open();\n        if (msg_handler) {\n          comm.onMsg = msg_handler;\n        }\n      } else if (typeof google != 'undefined' && google.colab.kernel != null) {\n        var comm_promise = google.colab.kernel.comms.open(comm_id)\n        comm_promise.then((comm) => {\n          window.PyViz.comms[comm_id] = comm;\n          if (msg_handler) {\n            var messages = comm.messages[Symbol.asyncIterator]();\n            function processIteratorResult(result) {\n              var message = result.value;\n              var content = {data: message.data};\n              var metadata = message.metadata || {comm_id};\n              var msg = {content, metadata}\n              msg_handler(msg);\n              return messages.next().then(processIteratorResult);\n            }\n            return messages.next().then(processIteratorResult);\n          }\n        }) \n        var sendClosure = (data, metadata, buffers, disposeOnDone) => {\n          return comm_promise.then((comm) => {\n            comm.send(data, metadata, buffers, disposeOnDone);\n          });\n        };\n        var comm = {\n          send: sendClosure\n        };\n      }\n      window.PyViz.comms[comm_id] = comm;\n      return comm;\n    }\n    window.PyViz.comm_manager = new JupyterCommManager();\n    \n\n\nvar JS_MIME_TYPE = 'application/javascript';\nvar HTML_MIME_TYPE = 'text/html';\nvar EXEC_MIME_TYPE = 'application/vnd.holoviews_exec.v0+json';\nvar CLASS_NAME = 'output';\n\n/**\n * Render data to the DOM node\n */\nfunction render(props, node) {\n  var div = document.createElement(\"div\");\n  var script = document.createElement(\"script\");\n  node.appendChild(div);\n  node.appendChild(script);\n}\n\n/**\n * Handle when a new output is added\n */\nfunction handle_add_output(event, handle) {\n  var output_area = handle.output_area;\n  var output = handle.output;\n  if ((output.data == undefined) || (!output.data.hasOwnProperty(EXEC_MIME_TYPE))) {\n    return\n  }\n  var id = output.metadata[EXEC_MIME_TYPE][\"id\"];\n  var toinsert = output_area.element.find(\".\" + CLASS_NAME.split(' ')[0]);\n  if (id !== undefined) {\n    var nchildren = toinsert.length;\n    var html_node = toinsert[nchildren-1].children[0];\n    html_node.innerHTML = output.data[HTML_MIME_TYPE];\n    var scripts = [];\n    var nodelist = html_node.querySelectorAll(\"script\");\n    for (var i in nodelist) {\n      if (nodelist.hasOwnProperty(i)) {\n        scripts.push(nodelist[i])\n      }\n    }\n\n    scripts.forEach( function (oldScript) {\n      var newScript = document.createElement(\"script\");\n      var attrs = [];\n      var nodemap = oldScript.attributes;\n      for (var j in nodemap) {\n        if (nodemap.hasOwnProperty(j)) {\n          attrs.push(nodemap[j])\n        }\n      }\n      attrs.forEach(function(attr) { newScript.setAttribute(attr.name, attr.value) });\n      newScript.appendChild(document.createTextNode(oldScript.innerHTML));\n      oldScript.parentNode.replaceChild(newScript, oldScript);\n    });\n    if (JS_MIME_TYPE in output.data) {\n      toinsert[nchildren-1].children[1].textContent = output.data[JS_MIME_TYPE];\n    }\n    output_area._hv_plot_id = id;\n    if ((window.Bokeh !== undefined) && (id in Bokeh.index)) {\n      window.PyViz.plot_index[id] = Bokeh.index[id];\n    } else {\n      window.PyViz.plot_index[id] = null;\n    }\n  } else if (output.metadata[EXEC_MIME_TYPE][\"server_id\"] !== undefined) {\n    var bk_div = document.createElement(\"div\");\n    bk_div.innerHTML = output.data[HTML_MIME_TYPE];\n    var script_attrs = bk_div.children[0].attributes;\n    for (var i = 0; i < script_attrs.length; i++) {\n      toinsert[toinsert.length - 1].childNodes[1].setAttribute(script_attrs[i].name, script_attrs[i].value);\n    }\n    // store reference to server id on output_area\n    output_area._bokeh_server_id = output.metadata[EXEC_MIME_TYPE][\"server_id\"];\n  }\n}\n\n/**\n * Handle when an output is cleared or removed\n */\nfunction handle_clear_output(event, handle) {\n  var id = handle.cell.output_area._hv_plot_id;\n  var server_id = handle.cell.output_area._bokeh_server_id;\n  if (((id === undefined) || !(id in PyViz.plot_index)) && (server_id !== undefined)) { return; }\n  var comm = window.PyViz.comm_manager.get_client_comm(\"hv-extension-comm\", \"hv-extension-comm\", function () {});\n  if (server_id !== null) {\n    comm.send({event_type: 'server_delete', 'id': server_id});\n    return;\n  } else if (comm !== null) {\n    comm.send({event_type: 'delete', 'id': id});\n  }\n  delete PyViz.plot_index[id];\n  if ((window.Bokeh !== undefined) & (id in window.Bokeh.index)) {\n    var doc = window.Bokeh.index[id].model.document\n    doc.clear();\n    const i = window.Bokeh.documents.indexOf(doc);\n    if (i > -1) {\n      window.Bokeh.documents.splice(i, 1);\n    }\n  }\n}\n\n/**\n * Handle kernel restart event\n */\nfunction handle_kernel_cleanup(event, handle) {\n  delete PyViz.comms[\"hv-extension-comm\"];\n  window.PyViz.plot_index = {}\n}\n\n/**\n * Handle update_display_data messages\n */\nfunction handle_update_output(event, handle) {\n  handle_clear_output(event, {cell: {output_area: handle.output_area}})\n  handle_add_output(event, handle)\n}\n\nfunction register_renderer(events, OutputArea) {\n  function append_mime(data, metadata, element) {\n    // create a DOM node to render to\n    var toinsert = this.create_output_subarea(\n    metadata,\n    CLASS_NAME,\n    EXEC_MIME_TYPE\n    );\n    this.keyboard_manager.register_events(toinsert);\n    // Render to node\n    var props = {data: data, metadata: metadata[EXEC_MIME_TYPE]};\n    render(props, toinsert[0]);\n    element.append(toinsert);\n    return toinsert\n  }\n\n  events.on('output_added.OutputArea', handle_add_output);\n  events.on('output_updated.OutputArea', handle_update_output);\n  events.on('clear_output.CodeCell', handle_clear_output);\n  events.on('delete.Cell', handle_clear_output);\n  events.on('kernel_ready.Kernel', handle_kernel_cleanup);\n\n  OutputArea.prototype.register_mime_type(EXEC_MIME_TYPE, append_mime, {\n    safe: true,\n    index: 0\n  });\n}\n\nif (window.Jupyter !== undefined) {\n  try {\n    var events = require('base/js/events');\n    var OutputArea = require('notebook/js/outputarea').OutputArea;\n    if (OutputArea.prototype.mime_types().indexOf(EXEC_MIME_TYPE) == -1) {\n      register_renderer(events, OutputArea);\n    }\n  } catch(err) {\n  }\n}\n"
     },
     "metadata": {},
     "output_type": "display_data"
    },
    {
     "data": {
      "text/html": [
       "<style>.bk-root, .bk-root .bk:before, .bk-root .bk:after {\n",
       "  font-family: var(--jp-ui-font-size1);\n",
       "  font-size: var(--jp-ui-font-size1);\n",
       "  color: var(--jp-ui-font-color1);\n",
       "}\n",
       "</style>"
      ]
     },
     "metadata": {},
     "output_type": "display_data"
    },
    {
     "name": "stdout",
     "output_type": "stream",
     "text": [
      "Collecting hvplot\r\n",
      "  Downloading hvplot-0.8.1-py2.py3-none-any.whl (3.2 MB)\r\n",
      "\u001b[2K     \u001b[90m━━━━━━━━━━━━━━━━━━━━━━━━━━━━━━━━━━━━━━━━\u001b[0m \u001b[32m3.2/3.2 MB\u001b[0m \u001b[31m2.9 MB/s\u001b[0m eta \u001b[36m0:00:00\u001b[0m\r\n",
      "\u001b[?25hRequirement already satisfied: packaging in /opt/conda/lib/python3.7/site-packages (from hvplot) (21.3)\r\n",
      "Requirement already satisfied: pandas in /opt/conda/lib/python3.7/site-packages (from hvplot) (1.3.5)\r\n",
      "Requirement already satisfied: numpy>=1.15 in /opt/conda/lib/python3.7/site-packages (from hvplot) (1.21.6)\r\n",
      "Requirement already satisfied: bokeh>=1.0.0 in /opt/conda/lib/python3.7/site-packages (from hvplot) (2.4.3)\r\n",
      "Requirement already satisfied: holoviews>=1.11.0 in /opt/conda/lib/python3.7/site-packages (from hvplot) (1.15.0)\r\n",
      "Requirement already satisfied: colorcet>=2 in /opt/conda/lib/python3.7/site-packages (from hvplot) (3.0.0)\r\n",
      "Requirement already satisfied: Jinja2>=2.9 in /opt/conda/lib/python3.7/site-packages (from bokeh>=1.0.0->hvplot) (3.1.2)\r\n",
      "Requirement already satisfied: tornado>=5.1 in /opt/conda/lib/python3.7/site-packages (from bokeh>=1.0.0->hvplot) (6.1)\r\n",
      "Requirement already satisfied: typing-extensions>=3.10.0 in /opt/conda/lib/python3.7/site-packages (from bokeh>=1.0.0->hvplot) (4.3.0)\r\n",
      "Requirement already satisfied: pillow>=7.1.0 in /opt/conda/lib/python3.7/site-packages (from bokeh>=1.0.0->hvplot) (9.1.1)\r\n",
      "Requirement already satisfied: PyYAML>=3.10 in /opt/conda/lib/python3.7/site-packages (from bokeh>=1.0.0->hvplot) (6.0)\r\n",
      "Requirement already satisfied: pyct>=0.4.4 in /opt/conda/lib/python3.7/site-packages (from colorcet>=2->hvplot) (0.4.8)\r\n",
      "Requirement already satisfied: param>=1.7.0 in /opt/conda/lib/python3.7/site-packages (from colorcet>=2->hvplot) (1.12.2)\r\n",
      "Requirement already satisfied: panel>=0.13.1 in /opt/conda/lib/python3.7/site-packages (from holoviews>=1.11.0->hvplot) (0.13.1)\r\n",
      "Requirement already satisfied: pyviz-comms>=0.7.4 in /opt/conda/lib/python3.7/site-packages (from holoviews>=1.11.0->hvplot) (2.2.1)\r\n",
      "Requirement already satisfied: pyparsing!=3.0.5,>=2.0.2 in /opt/conda/lib/python3.7/site-packages (from packaging->hvplot) (3.0.9)\r\n",
      "Requirement already satisfied: python-dateutil>=2.7.3 in /opt/conda/lib/python3.7/site-packages (from pandas->hvplot) (2.8.2)\r\n",
      "Requirement already satisfied: pytz>=2017.3 in /opt/conda/lib/python3.7/site-packages (from pandas->hvplot) (2022.1)\r\n",
      "Requirement already satisfied: MarkupSafe>=2.0 in /opt/conda/lib/python3.7/site-packages (from Jinja2>=2.9->bokeh>=1.0.0->hvplot) (2.1.1)\r\n",
      "Requirement already satisfied: requests in /opt/conda/lib/python3.7/site-packages (from panel>=0.13.1->holoviews>=1.11.0->hvplot) (2.28.1)\r\n",
      "Requirement already satisfied: tqdm>=4.48.0 in /opt/conda/lib/python3.7/site-packages (from panel>=0.13.1->holoviews>=1.11.0->hvplot) (4.64.0)\r\n",
      "Requirement already satisfied: markdown in /opt/conda/lib/python3.7/site-packages (from panel>=0.13.1->holoviews>=1.11.0->hvplot) (3.3.7)\r\n",
      "Requirement already satisfied: bleach in /opt/conda/lib/python3.7/site-packages (from panel>=0.13.1->holoviews>=1.11.0->hvplot) (5.0.1)\r\n",
      "Requirement already satisfied: setuptools in /opt/conda/lib/python3.7/site-packages (from panel>=0.13.1->holoviews>=1.11.0->hvplot) (59.8.0)\r\n",
      "Requirement already satisfied: six>=1.5 in /opt/conda/lib/python3.7/site-packages (from python-dateutil>=2.7.3->pandas->hvplot) (1.15.0)\r\n",
      "Requirement already satisfied: webencodings in /opt/conda/lib/python3.7/site-packages (from bleach->panel>=0.13.1->holoviews>=1.11.0->hvplot) (0.5.1)\r\n",
      "Requirement already satisfied: importlib-metadata>=4.4 in /opt/conda/lib/python3.7/site-packages (from markdown->panel>=0.13.1->holoviews>=1.11.0->hvplot) (4.12.0)\r\n",
      "Requirement already satisfied: charset-normalizer<3,>=2 in /opt/conda/lib/python3.7/site-packages (from requests->panel>=0.13.1->holoviews>=1.11.0->hvplot) (2.1.0)\r\n",
      "Requirement already satisfied: urllib3<1.27,>=1.21.1 in /opt/conda/lib/python3.7/site-packages (from requests->panel>=0.13.1->holoviews>=1.11.0->hvplot) (1.26.12)\r\n",
      "Requirement already satisfied: idna<4,>=2.5 in /opt/conda/lib/python3.7/site-packages (from requests->panel>=0.13.1->holoviews>=1.11.0->hvplot) (3.3)\r\n",
      "Requirement already satisfied: certifi>=2017.4.17 in /opt/conda/lib/python3.7/site-packages (from requests->panel>=0.13.1->holoviews>=1.11.0->hvplot) (2022.6.15.2)\r\n",
      "Requirement already satisfied: zipp>=0.5 in /opt/conda/lib/python3.7/site-packages (from importlib-metadata>=4.4->markdown->panel>=0.13.1->holoviews>=1.11.0->hvplot) (3.8.0)\r\n",
      "Installing collected packages: hvplot\r\n",
      "Successfully installed hvplot-0.8.1\r\n",
      "\u001b[33mWARNING: Running pip as the 'root' user can result in broken permissions and conflicting behaviour with the system package manager. It is recommended to use a virtual environment instead: https://pip.pypa.io/warnings/venv\u001b[0m\u001b[33m\r\n",
      "\u001b[0m"
     ]
    }
   ],
   "source": [
    "import requests\n",
    "from IPython.display import JSON\n",
    "import pandas as pd\n",
    "import numpy as np \n",
    "import time\n",
    "\n",
    "# Visualization\n",
    "from wordcloud import WordCloud, STOPWORDS\n",
    "import plotly.express as px\n",
    "\n",
    "# Panel/hvplot (holoviz)\n",
    "import panel as pn\n",
    "pn.extension()\n",
    "import param\n",
    "!pip install hvplot\n",
    "import hvplot.pandas\n",
    "\n",
    "# Others\n",
    "import pickle\n",
    "from io import StringIO"
   ]
  },
  {
   "cell_type": "code",
   "execution_count": 2,
   "id": "a88ebcec",
   "metadata": {
    "execution": {
     "iopub.execute_input": "2022-10-26T13:34:52.533174Z",
     "iopub.status.busy": "2022-10-26T13:34:52.532185Z",
     "iopub.status.idle": "2022-10-26T13:34:53.043461Z",
     "shell.execute_reply": "2022-10-26T13:34:53.042268Z"
    },
    "papermill": {
     "duration": 0.527229,
     "end_time": "2022-10-26T13:34:53.046321",
     "exception": false,
     "start_time": "2022-10-26T13:34:52.519092",
     "status": "completed"
    },
    "tags": []
   },
   "outputs": [],
   "source": [
    "from kaggle_secrets import UserSecretsClient\n",
    "user_secrets = UserSecretsClient()\n",
    "secret_value_0 = user_secrets.get_secret(\"assembly_key\")"
   ]
  },
  {
   "cell_type": "markdown",
   "id": "bdacf8ef",
   "metadata": {
    "papermill": {
     "duration": 0.010916,
     "end_time": "2022-10-26T13:34:53.068889",
     "exception": false,
     "start_time": "2022-10-26T13:34:53.057973",
     "status": "completed"
    },
    "tags": []
   },
   "source": [
    "# Submitting Files for Transcription"
   ]
  },
  {
   "cell_type": "code",
   "execution_count": 3,
   "id": "ca224b7d",
   "metadata": {
    "execution": {
     "iopub.execute_input": "2022-10-26T13:34:53.096200Z",
     "iopub.status.busy": "2022-10-26T13:34:53.095455Z",
     "iopub.status.idle": "2022-10-26T13:34:54.115681Z",
     "shell.execute_reply": "2022-10-26T13:34:54.114090Z"
    },
    "papermill": {
     "duration": 1.035821,
     "end_time": "2022-10-26T13:34:54.118235",
     "exception": false,
     "start_time": "2022-10-26T13:34:53.082414",
     "status": "completed"
    },
    "tags": []
   },
   "outputs": [
    {
     "name": "stdout",
     "output_type": "stream",
     "text": [
      "{'id': 'rzwpaj3ucn-2da8-4e91-904b-08b70dff93fe', 'language_model': 'assemblyai_default', 'acoustic_model': 'assemblyai_default', 'language_code': 'en_us', 'status': 'queued', 'audio_url': 'https://github.com/thu-vu92/audio_analyzer_assemblyai/blob/main/How_I_Would_Learn_to_Code.mp3?raw=true', 'text': None, 'words': None, 'utterances': None, 'confidence': None, 'audio_duration': None, 'punctuate': True, 'format_text': True, 'dual_channel': None, 'webhook_url': None, 'webhook_status_code': None, 'webhook_auth': False, 'webhook_auth_header_name': None, 'speed_boost': False, 'auto_highlights_result': None, 'auto_highlights': True, 'audio_start_from': None, 'audio_end_at': None, 'word_boost': [], 'boost_param': None, 'filter_profanity': False, 'redact_pii': False, 'redact_pii_audio': False, 'redact_pii_audio_quality': None, 'redact_pii_policies': None, 'redact_pii_sub': None, 'speaker_labels': False, 'content_safety': False, 'iab_categories': True, 'content_safety_labels': {}, 'iab_categories_result': {}, 'language_detection': False, 'custom_spelling': None, 'cluster_id': None, 'throttled': None, 'summarization': False, 'summary_type': None, 'disfluencies': False, 'sentiment_analysis': True, 'sentiment_analysis_results': None, 'auto_chapters': True, 'chapters': None, 'entity_detection': False, 'entities': None}\n"
     ]
    }
   ],
   "source": [
    "# Submitting Files for Transcription\n",
    "import requests\n",
    "endpoint = \"https://api.assemblyai.com/v2/transcript\"\n",
    "json = {\n",
    "    \"audio_url\": \"https://github.com/thu-vu92/audio_analyzer_assemblyai/blob/main/How_I_Would_Learn_to_Code.mp3?raw=true\",\n",
    "    \"auto_highlights\": True,\n",
    "    \"sentiment_analysis\": True,\n",
    "    \"auto_chapters\": True,\n",
    "    \"iab_categories\": True,\n",
    "}\n",
    "headers = {\n",
    "    \"authorization\": secret_value_0,\n",
    "    \"content-type\": \"application/json\"\n",
    "}\n",
    "response = requests.post(endpoint, json=json, headers=headers)\n",
    "print(response.json())"
   ]
  },
  {
   "cell_type": "markdown",
   "id": "b50413c9",
   "metadata": {
    "papermill": {
     "duration": 0.011211,
     "end_time": "2022-10-26T13:34:54.140848",
     "exception": false,
     "start_time": "2022-10-26T13:34:54.129637",
     "status": "completed"
    },
    "tags": []
   },
   "source": [
    "# Getting the Transcription Result\n"
   ]
  },
  {
   "cell_type": "code",
   "execution_count": 4,
   "id": "9d3050c5",
   "metadata": {
    "execution": {
     "iopub.execute_input": "2022-10-26T13:34:54.165978Z",
     "iopub.status.busy": "2022-10-26T13:34:54.164978Z",
     "iopub.status.idle": "2022-10-26T13:36:32.167834Z",
     "shell.execute_reply": "2022-10-26T13:36:32.166833Z"
    },
    "papermill": {
     "duration": 98.018419,
     "end_time": "2022-10-26T13:36:32.170783",
     "exception": false,
     "start_time": "2022-10-26T13:34:54.152364",
     "status": "completed"
    },
    "tags": []
   },
   "outputs": [
    {
     "name": "stdout",
     "output_type": "stream",
     "text": [
      "{'id': 'rzwpaj3ucn-2da8-4e91-904b-08b70dff93fe', 'language_model': 'assemblyai_default', 'acoustic_model': 'assemblyai_default', 'language_code': 'en_us', 'status': 'processing', 'audio_url': 'https://github.com/thu-vu92/audio_analyzer_assemblyai/blob/main/How_I_Would_Learn_to_Code.mp3?raw=true', 'text': None, 'words': None, 'utterances': None, 'confidence': None, 'audio_duration': None, 'punctuate': True, 'format_text': True, 'dual_channel': None, 'webhook_url': None, 'webhook_status_code': None, 'webhook_auth': False, 'webhook_auth_header_name': None, 'speed_boost': False, 'auto_highlights_result': None, 'auto_highlights': True, 'audio_start_from': None, 'audio_end_at': None, 'word_boost': [], 'boost_param': None, 'filter_profanity': False, 'redact_pii': False, 'redact_pii_audio': False, 'redact_pii_audio_quality': None, 'redact_pii_policies': None, 'redact_pii_sub': None, 'speaker_labels': False, 'content_safety': False, 'iab_categories': True, 'content_safety_labels': {}, 'iab_categories_result': {}, 'language_detection': False, 'custom_spelling': None, 'cluster_id': None, 'throttled': None, 'summarization': False, 'summary_type': None, 'disfluencies': False, 'sentiment_analysis': True, 'auto_chapters': True, 'chapters': None, 'sentiment_analysis_results': None, 'entity_detection': False, 'entities': None, 'summary': None}\n"
     ]
    }
   ],
   "source": [
    "# Getting the Transcription Result\n",
    "result_endpoint = endpoint + \"/\" + response.json()[\"id\"]\n",
    "headers_auth = {\n",
    "    \"authorization\": secret_value_0,\n",
    "}\n",
    "transcript_response = requests.get(result_endpoint, headers=headers_auth)\n",
    "print(transcript_response.json())\n",
    "\n",
    "# While loop for requesting transcription\n",
    "while response.json()['status'] != \"completed\":\n",
    "    response = requests.get(result_endpoint, headers=headers_auth)\n",
    "    time.sleep(3)"
   ]
  },
  {
   "cell_type": "code",
   "execution_count": 5,
   "id": "5936af44",
   "metadata": {
    "execution": {
     "iopub.execute_input": "2022-10-26T13:36:32.196925Z",
     "iopub.status.busy": "2022-10-26T13:36:32.195739Z",
     "iopub.status.idle": "2022-10-26T13:36:32.206099Z",
     "shell.execute_reply": "2022-10-26T13:36:32.204659Z"
    },
    "papermill": {
     "duration": 0.025779,
     "end_time": "2022-10-26T13:36:32.208950",
     "exception": false,
     "start_time": "2022-10-26T13:36:32.183171",
     "status": "completed"
    },
    "tags": []
   },
   "outputs": [
    {
     "data": {
      "application/json": {
       "acoustic_model": "assemblyai_default",
       "audio_duration": null,
       "audio_end_at": null,
       "audio_start_from": null,
       "audio_url": "https://github.com/thu-vu92/audio_analyzer_assemblyai/blob/main/How_I_Would_Learn_to_Code.mp3?raw=true",
       "auto_chapters": true,
       "auto_highlights": true,
       "auto_highlights_result": null,
       "boost_param": null,
       "chapters": null,
       "cluster_id": null,
       "confidence": null,
       "content_safety": false,
       "content_safety_labels": {},
       "custom_spelling": null,
       "disfluencies": false,
       "dual_channel": null,
       "entities": null,
       "entity_detection": false,
       "filter_profanity": false,
       "format_text": true,
       "iab_categories": true,
       "iab_categories_result": {},
       "id": "rzwpaj3ucn-2da8-4e91-904b-08b70dff93fe",
       "language_code": "en_us",
       "language_detection": false,
       "language_model": "assemblyai_default",
       "punctuate": true,
       "redact_pii": false,
       "redact_pii_audio": false,
       "redact_pii_audio_quality": null,
       "redact_pii_policies": null,
       "redact_pii_sub": null,
       "sentiment_analysis": true,
       "sentiment_analysis_results": null,
       "speaker_labels": false,
       "speed_boost": false,
       "status": "processing",
       "summarization": false,
       "summary": null,
       "summary_type": null,
       "text": null,
       "throttled": null,
       "utterances": null,
       "webhook_auth": false,
       "webhook_auth_header_name": null,
       "webhook_status_code": null,
       "webhook_url": null,
       "word_boost": [],
       "words": null
      },
      "text/plain": [
       "<IPython.core.display.JSON object>"
      ]
     },
     "execution_count": 5,
     "metadata": {
      "application/json": {
       "expanded": false,
       "root": "root"
      }
     },
     "output_type": "execute_result"
    }
   ],
   "source": [
    "JSON(transcript_response.json())"
   ]
  },
  {
   "cell_type": "code",
   "execution_count": 6,
   "id": "303a4a61",
   "metadata": {
    "execution": {
     "iopub.execute_input": "2022-10-26T13:36:32.235133Z",
     "iopub.status.busy": "2022-10-26T13:36:32.234345Z",
     "iopub.status.idle": "2022-10-26T13:36:32.239843Z",
     "shell.execute_reply": "2022-10-26T13:36:32.238940Z"
    },
    "papermill": {
     "duration": 0.021489,
     "end_time": "2022-10-26T13:36:32.242277",
     "exception": false,
     "start_time": "2022-10-26T13:36:32.220788",
     "status": "completed"
    },
    "tags": []
   },
   "outputs": [],
   "source": [
    "# Save pickle\n",
    "with open('speech_data.pkl', 'wb') as f:\n",
    "    pickle.dump(transcript_response.json().copy(), f)"
   ]
  },
  {
   "cell_type": "markdown",
   "id": "6fee822c",
   "metadata": {
    "papermill": {
     "duration": 0.012145,
     "end_time": "2022-10-26T13:36:32.266486",
     "exception": false,
     "start_time": "2022-10-26T13:36:32.254341",
     "status": "completed"
    },
    "tags": []
   },
   "source": [
    "# Now Let's Create the Dashboard"
   ]
  },
  {
   "cell_type": "code",
   "execution_count": 7,
   "id": "ac6be3ea",
   "metadata": {
    "execution": {
     "iopub.execute_input": "2022-10-26T13:36:32.292742Z",
     "iopub.status.busy": "2022-10-26T13:36:32.292003Z",
     "iopub.status.idle": "2022-10-26T13:36:32.296735Z",
     "shell.execute_reply": "2022-10-26T13:36:32.295879Z"
    },
    "papermill": {
     "duration": 0.020909,
     "end_time": "2022-10-26T13:36:32.299320",
     "exception": false,
     "start_time": "2022-10-26T13:36:32.278411",
     "status": "completed"
    },
    "tags": []
   },
   "outputs": [],
   "source": [
    "# load the pkl file we saved before\n",
    "with open('speech_data.pkl', 'rb') as f:\n",
    "    data = pickle.load(f)"
   ]
  },
  {
   "cell_type": "markdown",
   "id": "0b339296",
   "metadata": {
    "papermill": {
     "duration": 0.011651,
     "end_time": "2022-10-26T13:36:32.322932",
     "exception": false,
     "start_time": "2022-10-26T13:36:32.311281",
     "status": "completed"
    },
    "tags": []
   },
   "source": [
    "## Creating a Widget to Download the Transcription"
   ]
  },
  {
   "cell_type": "code",
   "execution_count": 8,
   "id": "389f3f01",
   "metadata": {
    "execution": {
     "iopub.execute_input": "2022-10-26T13:36:32.348938Z",
     "iopub.status.busy": "2022-10-26T13:36:32.348131Z",
     "iopub.status.idle": "2022-10-26T13:36:32.356367Z",
     "shell.execute_reply": "2022-10-26T13:36:32.355404Z"
    },
    "papermill": {
     "duration": 0.024469,
     "end_time": "2022-10-26T13:36:32.359036",
     "exception": false,
     "start_time": "2022-10-26T13:36:32.334567",
     "status": "completed"
    },
    "tags": []
   },
   "outputs": [
    {
     "data": {
      "text/plain": [
       "{'id': 'rzwpaj3ucn-2da8-4e91-904b-08b70dff93fe',\n",
       " 'language_model': 'assemblyai_default',\n",
       " 'acoustic_model': 'assemblyai_default',\n",
       " 'language_code': 'en_us',\n",
       " 'status': 'processing',\n",
       " 'audio_url': 'https://github.com/thu-vu92/audio_analyzer_assemblyai/blob/main/How_I_Would_Learn_to_Code.mp3?raw=true',\n",
       " 'text': None,\n",
       " 'words': None,\n",
       " 'utterances': None,\n",
       " 'confidence': None,\n",
       " 'audio_duration': None,\n",
       " 'punctuate': True,\n",
       " 'format_text': True,\n",
       " 'dual_channel': None,\n",
       " 'webhook_url': None,\n",
       " 'webhook_status_code': None,\n",
       " 'webhook_auth': False,\n",
       " 'webhook_auth_header_name': None,\n",
       " 'speed_boost': False,\n",
       " 'auto_highlights_result': None,\n",
       " 'auto_highlights': True,\n",
       " 'audio_start_from': None,\n",
       " 'audio_end_at': None,\n",
       " 'word_boost': [],\n",
       " 'boost_param': None,\n",
       " 'filter_profanity': False,\n",
       " 'redact_pii': False,\n",
       " 'redact_pii_audio': False,\n",
       " 'redact_pii_audio_quality': None,\n",
       " 'redact_pii_policies': None,\n",
       " 'redact_pii_sub': None,\n",
       " 'speaker_labels': False,\n",
       " 'content_safety': False,\n",
       " 'iab_categories': True,\n",
       " 'content_safety_labels': {},\n",
       " 'iab_categories_result': {},\n",
       " 'language_detection': False,\n",
       " 'custom_spelling': None,\n",
       " 'cluster_id': None,\n",
       " 'throttled': None,\n",
       " 'summarization': False,\n",
       " 'summary_type': None,\n",
       " 'disfluencies': False,\n",
       " 'sentiment_analysis': True,\n",
       " 'auto_chapters': True,\n",
       " 'chapters': None,\n",
       " 'sentiment_analysis_results': None,\n",
       " 'entity_detection': False,\n",
       " 'entities': None,\n",
       " 'summary': None}"
      ]
     },
     "execution_count": 8,
     "metadata": {},
     "output_type": "execute_result"
    }
   ],
   "source": [
    "data"
   ]
  },
  {
   "cell_type": "code",
   "execution_count": 9,
   "id": "ee79b6f6",
   "metadata": {
    "execution": {
     "iopub.execute_input": "2022-10-26T13:36:32.385692Z",
     "iopub.status.busy": "2022-10-26T13:36:32.385199Z",
     "iopub.status.idle": "2022-10-26T13:36:32.547930Z",
     "shell.execute_reply": "2022-10-26T13:36:32.546114Z"
    },
    "papermill": {
     "duration": 0.178224,
     "end_time": "2022-10-26T13:36:32.549691",
     "exception": true,
     "start_time": "2022-10-26T13:36:32.371467",
     "status": "failed"
    },
    "tags": []
   },
   "outputs": [
    {
     "ename": "TypeError",
     "evalue": "string argument expected, got 'NoneType'",
     "output_type": "error",
     "traceback": [
      "\u001b[0;31m---------------------------------------------------------------------------\u001b[0m",
      "\u001b[0;31mTypeError\u001b[0m                                 Traceback (most recent call last)",
      "\u001b[0;32m/tmp/ipykernel_19/2512432016.py\u001b[0m in \u001b[0;36m<module>\u001b[0;34m\u001b[0m\n\u001b[1;32m      1\u001b[0m \u001b[0mbuffer\u001b[0m \u001b[0;34m=\u001b[0m \u001b[0mStringIO\u001b[0m\u001b[0;34m(\u001b[0m\u001b[0;34m)\u001b[0m\u001b[0;34m\u001b[0m\u001b[0;34m\u001b[0m\u001b[0m\n\u001b[0;32m----> 2\u001b[0;31m \u001b[0mbuffer\u001b[0m\u001b[0;34m.\u001b[0m\u001b[0mwrite\u001b[0m\u001b[0;34m(\u001b[0m\u001b[0mdata\u001b[0m\u001b[0;34m[\u001b[0m\u001b[0;34m\"text\"\u001b[0m\u001b[0;34m]\u001b[0m\u001b[0;34m)\u001b[0m\u001b[0;34m\u001b[0m\u001b[0;34m\u001b[0m\u001b[0m\n\u001b[0m\u001b[1;32m      3\u001b[0m \u001b[0mbuffer\u001b[0m\u001b[0;34m.\u001b[0m\u001b[0mseek\u001b[0m\u001b[0;34m(\u001b[0m\u001b[0;36m0\u001b[0m\u001b[0;34m)\u001b[0m\u001b[0;34m\u001b[0m\u001b[0;34m\u001b[0m\u001b[0m\n",
      "\u001b[0;31mTypeError\u001b[0m: string argument expected, got 'NoneType'"
     ]
    }
   ],
   "source": [
    "buffer = StringIO()\n",
    "buffer.write(data[\"text\"])\n",
    "buffer.seek(0)"
   ]
  },
  {
   "cell_type": "code",
   "execution_count": null,
   "id": "589c12e8",
   "metadata": {
    "execution": {
     "iopub.execute_input": "2022-10-26T13:04:30.885246Z",
     "iopub.status.busy": "2022-10-26T13:04:30.884859Z",
     "iopub.status.idle": "2022-10-26T13:04:30.913217Z",
     "shell.execute_reply": "2022-10-26T13:04:30.912346Z",
     "shell.execute_reply.started": "2022-10-26T13:04:30.885216Z"
    },
    "papermill": {
     "duration": null,
     "end_time": null,
     "exception": null,
     "start_time": null,
     "status": "pending"
    },
    "tags": []
   },
   "outputs": [],
   "source": [
    "transcript_download = pn.widgets.FileDownload(file=buffer, \n",
    "                                              filename=\"transcript.txt\", \n",
    "                                              button_type='success')\n",
    "transcript_download"
   ]
  },
  {
   "cell_type": "markdown",
   "id": "ae00a351",
   "metadata": {
    "papermill": {
     "duration": null,
     "end_time": null,
     "exception": null,
     "start_time": null,
     "status": "pending"
    },
    "tags": []
   },
   "source": [
    "## Creating a widget to play audio using panel"
   ]
  },
  {
   "cell_type": "code",
   "execution_count": null,
   "id": "5f242c92",
   "metadata": {
    "execution": {
     "iopub.execute_input": "2022-10-26T13:04:39.473985Z",
     "iopub.status.busy": "2022-10-26T13:04:39.473584Z",
     "iopub.status.idle": "2022-10-26T13:04:39.497820Z",
     "shell.execute_reply": "2022-10-26T13:04:39.496740Z",
     "shell.execute_reply.started": "2022-10-26T13:04:39.473951Z"
    },
    "papermill": {
     "duration": null,
     "end_time": null,
     "exception": null,
     "start_time": null,
     "status": "pending"
    },
    "tags": []
   },
   "outputs": [],
   "source": [
    "audio_url = \"https://github.com/thu-vu92/audio_analyzer_assemblyai/blob/main/How_I_Would_Learn_to_Code.mp3?raw=true\"\n",
    "audio_play = pn.pane.Audio(audio_url, name='Audio', time = 360)\n",
    "audio_play"
   ]
  },
  {
   "cell_type": "markdown",
   "id": "1a595286",
   "metadata": {
    "papermill": {
     "duration": null,
     "end_time": null,
     "exception": null,
     "start_time": null,
     "status": "pending"
    },
    "tags": []
   },
   "source": [
    "## Now Its Time for Some Sentiment Analysis"
   ]
  },
  {
   "cell_type": "code",
   "execution_count": null,
   "id": "b0bc2724",
   "metadata": {
    "execution": {
     "iopub.execute_input": "2022-10-26T13:04:47.298072Z",
     "iopub.status.busy": "2022-10-26T13:04:47.297683Z",
     "iopub.status.idle": "2022-10-26T13:04:47.332352Z",
     "shell.execute_reply": "2022-10-26T13:04:47.331154Z",
     "shell.execute_reply.started": "2022-10-26T13:04:47.298040Z"
    },
    "papermill": {
     "duration": null,
     "end_time": null,
     "exception": null,
     "start_time": null,
     "status": "pending"
    },
    "tags": []
   },
   "outputs": [],
   "source": [
    "sentiment = data[\"sentiment_analysis_results\"]\n",
    "sentiment_df = pd.DataFrame(sentiment)\n",
    "sentiment_df"
   ]
  },
  {
   "cell_type": "code",
   "execution_count": null,
   "id": "a989c28c",
   "metadata": {
    "execution": {
     "iopub.execute_input": "2022-10-26T13:05:15.085945Z",
     "iopub.status.busy": "2022-10-26T13:05:15.085557Z",
     "iopub.status.idle": "2022-10-26T13:05:15.101239Z",
     "shell.execute_reply": "2022-10-26T13:05:15.100043Z",
     "shell.execute_reply.started": "2022-10-26T13:05:15.085914Z"
    },
    "papermill": {
     "duration": null,
     "end_time": null,
     "exception": null,
     "start_time": null,
     "status": "pending"
    },
    "tags": []
   },
   "outputs": [],
   "source": [
    "\n",
    "sentiment_df_grouped = sentiment_df['sentiment'].value_counts()\n",
    "sentiment_df_grouped"
   ]
  },
  {
   "cell_type": "code",
   "execution_count": null,
   "id": "a2fa4cfd",
   "metadata": {
    "execution": {
     "iopub.execute_input": "2022-10-26T13:05:24.326772Z",
     "iopub.status.busy": "2022-10-26T13:05:24.326383Z",
     "iopub.status.idle": "2022-10-26T13:05:24.465287Z",
     "shell.execute_reply": "2022-10-26T13:05:24.464163Z",
     "shell.execute_reply.started": "2022-10-26T13:05:24.326739Z"
    },
    "papermill": {
     "duration": null,
     "end_time": null,
     "exception": null,
     "start_time": null,
     "status": "pending"
    },
    "tags": []
   },
   "outputs": [],
   "source": [
    "# Bar plot\n",
    "sentiment_plot = sentiment_df_grouped.hvplot(title = \"Sentences by Sentiment Category\", kind=\"bar\")\n",
    "pn.Row(sentiment_plot)"
   ]
  },
  {
   "cell_type": "code",
   "execution_count": null,
   "id": "f1ce2e5f",
   "metadata": {
    "execution": {
     "iopub.execute_input": "2022-10-26T13:05:28.400957Z",
     "iopub.status.busy": "2022-10-26T13:05:28.400308Z",
     "iopub.status.idle": "2022-10-26T13:05:28.606475Z",
     "shell.execute_reply": "2022-10-26T13:05:28.605453Z",
     "shell.execute_reply.started": "2022-10-26T13:05:28.400918Z"
    },
    "papermill": {
     "duration": null,
     "end_time": null,
     "exception": null,
     "start_time": null,
     "status": "pending"
    },
    "tags": []
   },
   "outputs": [],
   "source": [
    "# Creating different tabs for different sentiment type\n",
    "positive_df = sentiment_df[sentiment_df[\"sentiment\"] == \"POSITIVE\"][[\"text\", \"sentiment\"]]\n",
    "negative_df = sentiment_df[sentiment_df[\"sentiment\"] == \"NEGATIVE\"][[\"text\", \"sentiment\"]]\n",
    "neutral_df = sentiment_df[sentiment_df[\"sentiment\"] == \"NEUTRAL\"][[\"text\", \"sentiment\"]]\n",
    "\n",
    "sentiment_tabs = pn.Tabs(('Sentiment overview', sentiment_plot), \n",
    "                       ('Positive', pn.widgets.DataFrame(positive_df, autosize_mode='fit_columns', width=700, height=300)),\n",
    "                       ('Negative', pn.widgets.DataFrame(negative_df, autosize_mode='fit_columns', width=700, height=300)),\n",
    "                       ('Neutral', pn.widgets.DataFrame(neutral_df, autosize_mode='fit_columns', width=700, height=300))\n",
    "                        )\n",
    "sentiment_tabs"
   ]
  },
  {
   "cell_type": "markdown",
   "id": "e4fe9296",
   "metadata": {
    "papermill": {
     "duration": null,
     "end_time": null,
     "exception": null,
     "start_time": null,
     "status": "pending"
    },
    "tags": []
   },
   "source": [
    "## Now Let's Create a WordCloud"
   ]
  },
  {
   "cell_type": "code",
   "execution_count": null,
   "id": "4f7fadea",
   "metadata": {
    "execution": {
     "iopub.execute_input": "2022-10-26T13:05:36.692793Z",
     "iopub.status.busy": "2022-10-26T13:05:36.692381Z",
     "iopub.status.idle": "2022-10-26T13:05:36.718795Z",
     "shell.execute_reply": "2022-10-26T13:05:36.717814Z",
     "shell.execute_reply.started": "2022-10-26T13:05:36.692756Z"
    },
    "papermill": {
     "duration": null,
     "end_time": null,
     "exception": null,
     "start_time": null,
     "status": "pending"
    },
    "tags": []
   },
   "outputs": [],
   "source": [
    "stopwords = set(STOPWORDS)\n",
    "transcript = data[\"text\"]\n",
    "transcript_lower = [item.lower() for item in str(transcript).split()]\n",
    "transcript_lower"
   ]
  },
  {
   "cell_type": "code",
   "execution_count": null,
   "id": "4b82db33",
   "metadata": {
    "execution": {
     "iopub.execute_input": "2022-10-26T13:05:40.885312Z",
     "iopub.status.busy": "2022-10-26T13:05:40.884625Z",
     "iopub.status.idle": "2022-10-26T13:05:40.891759Z",
     "shell.execute_reply": "2022-10-26T13:05:40.890701Z",
     "shell.execute_reply.started": "2022-10-26T13:05:40.885268Z"
    },
    "papermill": {
     "duration": null,
     "end_time": null,
     "exception": null,
     "start_time": null,
     "status": "pending"
    },
    "tags": []
   },
   "outputs": [],
   "source": [
    "all_words = ' '.join(transcript_lower) \n",
    "all_words"
   ]
  },
  {
   "cell_type": "code",
   "execution_count": null,
   "id": "5bbc1328",
   "metadata": {
    "execution": {
     "iopub.execute_input": "2022-10-26T13:05:44.225821Z",
     "iopub.status.busy": "2022-10-26T13:05:44.225405Z",
     "iopub.status.idle": "2022-10-26T13:05:45.169790Z",
     "shell.execute_reply": "2022-10-26T13:05:45.168714Z",
     "shell.execute_reply.started": "2022-10-26T13:05:44.225786Z"
    },
    "papermill": {
     "duration": null,
     "end_time": null,
     "exception": null,
     "start_time": null,
     "status": "pending"
    },
    "tags": []
   },
   "outputs": [],
   "source": [
    "# Word cloud plot\n",
    "wordcloud = WordCloud(background_color='black', stopwords = stopwords, max_words = 20,\n",
    "                      colormap='viridis', collocations=False).generate(all_words)\n",
    "\n",
    "wordcloud_plot = px.imshow(wordcloud) \n",
    "# Remove labels on axes\n",
    "wordcloud_plot.update_xaxes(showticklabels=False)\n",
    "wordcloud_plot"
   ]
  },
  {
   "cell_type": "code",
   "execution_count": null,
   "id": "f0b6e1d0",
   "metadata": {
    "execution": {
     "iopub.execute_input": "2022-10-26T13:05:57.925632Z",
     "iopub.status.busy": "2022-10-26T13:05:57.925257Z",
     "iopub.status.idle": "2022-10-26T13:05:57.934149Z",
     "shell.execute_reply": "2022-10-26T13:05:57.932971Z",
     "shell.execute_reply.started": "2022-10-26T13:05:57.925601Z"
    },
    "papermill": {
     "duration": null,
     "end_time": null,
     "exception": null,
     "start_time": null,
     "status": "pending"
    },
    "tags": []
   },
   "outputs": [],
   "source": [
    "# Create interactive slider\n",
    "class Controller(param.Parameterized):\n",
    "    word_slider = param.Integer(30, bounds=(5, 50), step=5)\n",
    "\n",
    "controller = Controller()\n",
    "\n",
    "@pn.depends(controller.param.word_slider, watch=True)\n",
    "def update_wordcloud(num_words):\n",
    "    # Word cloud plot\n",
    "    wordcloud = WordCloud(background_color='black', stopwords = stopwords, max_words = num_words,\n",
    "                          colormap='viridis', collocations=False).generate(all_words)\n",
    "\n",
    "    wordcloud_plot = px.imshow(wordcloud) \n",
    "    # Remove labels on axes\n",
    "    wordcloud_plot.update_xaxes(showticklabels=False)\n",
    "    wordcloud_plot.update_yaxes(showticklabels=False)\n",
    "    return wordcloud_plot\n"
   ]
  },
  {
   "cell_type": "code",
   "execution_count": null,
   "id": "e0b5dcd2",
   "metadata": {
    "execution": {
     "iopub.execute_input": "2022-10-26T13:06:07.509170Z",
     "iopub.status.busy": "2022-10-26T13:06:07.508751Z",
     "iopub.status.idle": "2022-10-26T13:06:07.516789Z",
     "shell.execute_reply": "2022-10-26T13:06:07.515890Z",
     "shell.execute_reply.started": "2022-10-26T13:06:07.509135Z"
    },
    "papermill": {
     "duration": null,
     "end_time": null,
     "exception": null,
     "start_time": null,
     "status": "pending"
    },
    "tags": []
   },
   "outputs": [],
   "source": [
    "chapters = data[\"chapters\"]\n",
    "chapters"
   ]
  },
  {
   "cell_type": "code",
   "execution_count": null,
   "id": "2a0bcf16",
   "metadata": {
    "execution": {
     "iopub.execute_input": "2022-10-26T13:06:11.373177Z",
     "iopub.status.busy": "2022-10-26T13:06:11.372069Z",
     "iopub.status.idle": "2022-10-26T13:06:11.391057Z",
     "shell.execute_reply": "2022-10-26T13:06:11.390171Z",
     "shell.execute_reply.started": "2022-10-26T13:06:11.373133Z"
    },
    "papermill": {
     "duration": null,
     "end_time": null,
     "exception": null,
     "start_time": null,
     "status": "pending"
    },
    "tags": []
   },
   "outputs": [],
   "source": [
    "chapter_summary = pn.widgets.StaticText(value=chapters[0][\"summary\"], \n",
    "                                        width=1000, \n",
    "                                        height_policy = \"fit\")\n",
    "chapter_summary"
   ]
  },
  {
   "cell_type": "code",
   "execution_count": null,
   "id": "3268c749",
   "metadata": {
    "execution": {
     "iopub.execute_input": "2022-10-26T13:06:17.322558Z",
     "iopub.status.busy": "2022-10-26T13:06:17.322140Z",
     "iopub.status.idle": "2022-10-26T13:06:17.343102Z",
     "shell.execute_reply": "2022-10-26T13:06:17.342020Z",
     "shell.execute_reply.started": "2022-10-26T13:06:17.322523Z"
    },
    "papermill": {
     "duration": null,
     "end_time": null,
     "exception": null,
     "start_time": null,
     "status": "pending"
    },
    "tags": []
   },
   "outputs": [],
   "source": [
    "button = pn.widgets.Button(name=str(int(chapters[0][\"start\"]/1000)), button_type='primary')\n",
    "button"
   ]
  },
  {
   "cell_type": "code",
   "execution_count": null,
   "id": "85e952dd",
   "metadata": {
    "execution": {
     "iopub.execute_input": "2022-10-26T13:06:21.339431Z",
     "iopub.status.busy": "2022-10-26T13:06:21.339044Z",
     "iopub.status.idle": "2022-10-26T13:06:21.361772Z",
     "shell.execute_reply": "2022-10-26T13:06:21.360563Z",
     "shell.execute_reply.started": "2022-10-26T13:06:21.339398Z"
    },
    "papermill": {
     "duration": null,
     "end_time": null,
     "exception": null,
     "start_time": null,
     "status": "pending"
    },
    "tags": []
   },
   "outputs": [],
   "source": [
    "chapter_audio = pn.pane.Audio(audio_url, name='Audio', time = round(chapters[0][\"start\"]/1000))\n",
    "chapter_audio"
   ]
  },
  {
   "cell_type": "code",
   "execution_count": null,
   "id": "12182d55",
   "metadata": {
    "execution": {
     "iopub.execute_input": "2022-10-26T13:06:25.613893Z",
     "iopub.status.busy": "2022-10-26T13:06:25.613491Z",
     "iopub.status.idle": "2022-10-26T13:06:25.889104Z",
     "shell.execute_reply": "2022-10-26T13:06:25.888306Z",
     "shell.execute_reply.started": "2022-10-26T13:06:25.613858Z"
    },
    "papermill": {
     "duration": null,
     "end_time": null,
     "exception": null,
     "start_time": null,
     "status": "pending"
    },
    "tags": []
   },
   "outputs": [],
   "source": [
    "# Create chapter summary layout\n",
    "chapters_layout = pn.Column(pn.pane.Markdown(\"### Auto Chapter Summary\"))\n",
    "\n",
    "class ButtonAudio():\n",
    "    def __init__(self, start_time):\n",
    "        self.start_time = start_time\n",
    "        self.button = pn.widgets.Button(name=str(int(self.start_time/1000)), button_type='primary', width=60)\n",
    "        self.chapter_audio = pn.pane.Audio(audio_url, name='Audio', time = round(self.start_time/1000))\n",
    "        self.button.on_click(self.move_audio_head)\n",
    "\n",
    "    def move_audio_head(self, event):\n",
    "        self.chapter_audio.time = self.start_time/1000\n",
    "        \n",
    "for chapter in chapters:\n",
    "    chapter_summary = pn.widgets.StaticText(value=chapter[\"summary\"], width=1000, height_policy = \"fit\")\n",
    "    button_audio = ButtonAudio(chapter[\"start\"])\n",
    "    button = button_audio.button\n",
    "    chapter_audio = button_audio.chapter_audio\n",
    "    chapters_layout.append(pn.Row(pn.Column(button), pn.Column(chapter_audio), pn.Column(chapter_summary)))\n",
    "    \n",
    "chapters_layout"
   ]
  },
  {
   "cell_type": "code",
   "execution_count": null,
   "id": "dddb1b80",
   "metadata": {
    "execution": {
     "iopub.execute_input": "2022-10-26T13:06:29.123317Z",
     "iopub.status.busy": "2022-10-26T13:06:29.122559Z",
     "iopub.status.idle": "2022-10-26T13:06:29.150701Z",
     "shell.execute_reply": "2022-10-26T13:06:29.149700Z",
     "shell.execute_reply.started": "2022-10-26T13:06:29.123268Z"
    },
    "papermill": {
     "duration": null,
     "end_time": null,
     "exception": null,
     "start_time": null,
     "status": "pending"
    },
    "tags": []
   },
   "outputs": [],
   "source": [
    "highlights = data[\"auto_highlights_result\"][\"results\"]\n",
    "highlights_df = pd.DataFrame(highlights)\n",
    "highlights_df"
   ]
  },
  {
   "cell_type": "code",
   "execution_count": null,
   "id": "9c2d876e",
   "metadata": {
    "execution": {
     "iopub.execute_input": "2022-10-26T13:08:31.673507Z",
     "iopub.status.busy": "2022-10-26T13:08:31.673093Z",
     "iopub.status.idle": "2022-10-26T13:08:31.949277Z",
     "shell.execute_reply": "2022-10-26T13:08:31.948223Z",
     "shell.execute_reply.started": "2022-10-26T13:08:31.673473Z"
    },
    "papermill": {
     "duration": null,
     "end_time": null,
     "exception": null,
     "start_time": null,
     "status": "pending"
    },
    "tags": []
   },
   "outputs": [],
   "source": [
    "# Dashboard template\n",
    "template = pn.template.FastListTemplate(\n",
    "    title='Audio Content Explorer', \n",
    "    sidebar=[pn.pane.Markdown(\"# Explore audio content\"), \n",
    "             pn.pane.Markdown(\"#### This app analyzes the content of your audio file, including sentiment, wordcloud, automatic content summary and highlights using AssemblyAI API.\"),\n",
    "             pn.pane.Markdown(\"#### This example is based on the audio content of Ken Jee's Youtube video on how to learn to code.\"),\n",
    "             # pn.pane.PNG(\"kenjee_thumbnail.png\", sizing_mode=\"scale_both\"),\n",
    "             pn.pane.Markdown(\"### [Link to video!](https://www.youtube.com/watch?v=EBjYqC3aNTA&t=311s)\"),\n",
    "             pn.pane.Markdown(\"### Download transcript:\"),\n",
    "             transcript_download\n",
    "             ],\n",
    "    main=[pn.Row(pn.Column(sentiment_tabs), pn.Column(pn.Row(controller.param.word_slider), \n",
    "                                                      pn.Row(update_wordcloud, title = \"WordCloud of Speech Content\"))\n",
    "                ),\n",
    "          pn.Row(chapters_layout),\n",
    "          pn.Row(highlights_df, title = \"Automatic Highlights\")],\n",
    "    accent_base_color=\"#88d8b0\",\n",
    "    header_background=\"#c0b9dd\",\n",
    ")\n",
    "\n",
    "template.show()"
   ]
  },
  {
   "cell_type": "code",
   "execution_count": null,
   "id": "41110f7e",
   "metadata": {
    "papermill": {
     "duration": null,
     "end_time": null,
     "exception": null,
     "start_time": null,
     "status": "pending"
    },
    "tags": []
   },
   "outputs": [],
   "source": []
  }
 ],
 "metadata": {
  "kernelspec": {
   "display_name": "Python 3",
   "language": "python",
   "name": "python3"
  },
  "language_info": {
   "codemirror_mode": {
    "name": "ipython",
    "version": 3
   },
   "file_extension": ".py",
   "mimetype": "text/x-python",
   "name": "python",
   "nbconvert_exporter": "python",
   "pygments_lexer": "ipython3",
   "version": "3.7.12"
  },
  "papermill": {
   "default_parameters": {},
   "duration": 131.137835,
   "end_time": "2022-10-26T13:36:33.686664",
   "environment_variables": {},
   "exception": true,
   "input_path": "__notebook__.ipynb",
   "output_path": "__notebook__.ipynb",
   "parameters": {},
   "start_time": "2022-10-26T13:34:22.548829",
   "version": "2.3.4"
  }
 },
 "nbformat": 4,
 "nbformat_minor": 5
}
